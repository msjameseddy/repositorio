{
 "cells": [
  {
   "cell_type": "markdown",
   "id": "6f6f92d0-469c-4c04-826d-46987bb5dabc",
   "metadata": {},
   "source": [
    "# Semana02\n",
    "James Eddy Mallqui Salvador"
   ]
  },
  {
   "cell_type": "markdown",
   "id": "f4e93603-c0a5-4ff0-95a2-ec9172895e40",
   "metadata": {},
   "source": [
    "# Temas\n",
    "1. Colecciones de datos\n",
    "2. Estructuras decisivas y Estructuras Repetitivas\n",
    "3. Clases y objetos\n",
    "4. Funciones"
   ]
  },
  {
   "cell_type": "code",
   "execution_count": 13,
   "id": "3e147e0e-3a73-4481-8ba2-44d26a4c5047",
   "metadata": {},
   "outputs": [
    {
     "name": "stdout",
     "output_type": "stream",
     "text": [
      "['Alaluna', 'Avila', 'Cabanillas', 'Camargo']\n"
     ]
    }
   ],
   "source": [
    "# 1.1 Listas\n",
    "# Es una colección de elementos que puede ser ordenada\n",
    "# modificada. etc..\n",
    "# Se identifica por lo corchetes\n",
    "# Ejemplo\n",
    "aula = ['Alaluna','Avila','Cabanillas','Camargo']\n",
    "print(aula)"
   ]
  },
  {
   "cell_type": "code",
   "execution_count": 15,
   "id": "b1bda043-683a-4efe-80d2-5ab3d977b34a",
   "metadata": {},
   "outputs": [
    {
     "data": {
      "text/plain": [
       "['Alaluna', 'Avila', 'Cabanillas', 'Camargo', 'Hermitaño', 'Gomez']"
      ]
     },
     "execution_count": 15,
     "metadata": {},
     "output_type": "execute_result"
    }
   ],
   "source": [
    "aula.append(\"Hermitaño\")\n",
    "aula.append(\"Gomez\")\n",
    "aula"
   ]
  },
  {
   "cell_type": "code",
   "execution_count": null,
   "id": "bcb0d5d7-a108-4aba-bace-c5769f0e150f",
   "metadata": {},
   "outputs": [],
   "source": [
    "aula.remove(\"ALALUNA\")\n",
    "aula"
   ]
  }
 ],
 "metadata": {
  "kernelspec": {
   "display_name": "Python [conda env:base] *",
   "language": "python",
   "name": "conda-base-py"
  },
  "language_info": {
   "codemirror_mode": {
    "name": "ipython",
    "version": 3
   },
   "file_extension": ".py",
   "mimetype": "text/x-python",
   "name": "python",
   "nbconvert_exporter": "python",
   "pygments_lexer": "ipython3",
   "version": "3.12.7"
  }
 },
 "nbformat": 4,
 "nbformat_minor": 5
}
