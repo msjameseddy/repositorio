{
 "cells": [
  {
   "cell_type": "markdown",
   "id": "4cf147ea-49b2-4d90-92d2-7d9809c8d41c",
   "metadata": {},
   "source": [
    "# Semana 03\n",
    "Mallqui Salvador James Eddy"
   ]
  },
  {
   "cell_type": "markdown",
   "id": "5660718b-adfa-4f03-bddb-530e2b19fcaa",
   "metadata": {},
   "source": [
    "# Temas\n",
    "1. Colección de datos\n",
    "2. Estructuras decisivas y Estructura repetitivas\n",
    "3. Claves y Objetos\n",
    "4. Funciones"
   ]
  },
  {
   "cell_type": "markdown",
   "id": "0182f6ff-2c23-4976-afed-cd59ad87b630",
   "metadata": {},
   "source": [
    "# 1. Colecciones"
   ]
  },
  {
   "cell_type": "code",
   "execution_count": 8,
   "id": "ce5c9795-8b36-4ece-b4ad-e0ac02b83fba",
   "metadata": {},
   "outputs": [
    {
     "name": "stdout",
     "output_type": "stream",
     "text": [
      "['Bernaola', 'Chipana', 'Gomez', 'Navarro']\n"
     ]
    }
   ],
   "source": [
    "# 1.1. Listas\n",
    "# Es una colección de elementos que puede ser ordenada, modificada, etc..\n",
    "# Se identifica por los corchetes\n",
    "# Ejemplo\n",
    "aula = ['Bernaola','Chipana','Gomez','Navarro']\n",
    "print(aula)"
   ]
  },
  {
   "cell_type": "code",
   "execution_count": 10,
   "id": "cb7cc714-9a11-4195-b96e-6f3b51d03f22",
   "metadata": {},
   "outputs": [
    {
     "data": {
      "text/plain": [
       "['Bernaola', 'Chipana', 'Gomez', 'Navarro']"
      ]
     },
     "execution_count": 10,
     "metadata": {},
     "output_type": "execute_result"
    }
   ],
   "source": [
    "# Tambien se puede imprimir con solo mencionar la lista\n",
    "aula"
   ]
  },
  {
   "cell_type": "code",
   "execution_count": 16,
   "id": "f69517d4-bf0a-4c52-b546-4e9d08464409",
   "metadata": {},
   "outputs": [
    {
     "name": "stdout",
     "output_type": "stream",
     "text": [
      "Bernaola\n",
      "Chavez\n",
      "Gomez\n",
      "Navarro\n"
     ]
    }
   ],
   "source": [
    "# Podemos extraer cada elemento por su posición\n",
    "print(aula[0])\n",
    "print(aula[1])\n",
    "print(aula[2])\n",
    "print(aula[3])"
   ]
  },
  {
   "cell_type": "code",
   "execution_count": 14,
   "id": "021ee11a-2bd9-49fc-8d72-3cd0ca4c4346",
   "metadata": {},
   "outputs": [
    {
     "data": {
      "text/plain": [
       "'Chavez'"
      ]
     },
     "execution_count": 14,
     "metadata": {},
     "output_type": "execute_result"
    }
   ],
   "source": [
    "# Puedo asignar un valor a una posición de la lista\n",
    "aula[1] = 'Chavez'\n",
    "aula[1]"
   ]
  },
  {
   "cell_type": "code",
   "execution_count": 18,
   "id": "819f2702-9378-4c46-91ed-97f3f889f2a1",
   "metadata": {},
   "outputs": [
    {
     "data": {
      "text/plain": [
       "['Bernaola', 'Chavez', 'Gomez', 'Navarro']"
      ]
     },
     "execution_count": 18,
     "metadata": {},
     "output_type": "execute_result"
    }
   ],
   "source": [
    "# Mostramos como quedó la lista\n",
    "aula"
   ]
  },
  {
   "cell_type": "code",
   "execution_count": 20,
   "id": "07d3fbac-c5c9-414f-9c74-23763df179d6",
   "metadata": {},
   "outputs": [
    {
     "data": {
      "text/plain": [
       "['Bernaola', 'Chavez', 'Gomez', 'Navarro', 'Hermitaño', 'Gomez']"
      ]
     },
     "execution_count": 20,
     "metadata": {},
     "output_type": "execute_result"
    }
   ],
   "source": [
    "# Para agregar un elemento utilizamos append\n",
    "aula.append(\"Hermitaño\")\n",
    "aula.append(\"Gomez\")\n",
    "aula        "
   ]
  },
  {
   "cell_type": "code",
   "execution_count": 22,
   "id": "cd739ae9-7437-46e1-83ee-b22d46143a3b",
   "metadata": {},
   "outputs": [
    {
     "data": {
      "text/plain": [
       "['Chavez', 'Gomez', 'Navarro', 'Hermitaño', 'Gomez']"
      ]
     },
     "execution_count": 22,
     "metadata": {},
     "output_type": "execute_result"
    }
   ],
   "source": [
    "# Para eliminar elementos utilizamos [remove]\n",
    "aula.remove(\"Bernaola\")\n",
    "aula"
   ]
  },
  {
   "cell_type": "code",
   "execution_count": 24,
   "id": "cd8941f8-1902-4f4d-9aaf-3b22ff8446a7",
   "metadata": {},
   "outputs": [
    {
     "data": {
      "text/plain": [
       "['Chavez', 'Navarro', 'Hermitaño', 'Gomez']"
      ]
     },
     "execution_count": 24,
     "metadata": {},
     "output_type": "execute_result"
    }
   ],
   "source": [
    "# Si hubiera varios elementos de valores iguales se elimina la\n",
    "# primera coincidencia\n",
    "aula.remove(\"Gomez\")\n",
    "aula"
   ]
  },
  {
   "cell_type": "code",
   "execution_count": 26,
   "id": "f5d5e877-e2ec-4abd-abb0-255eaf48953f",
   "metadata": {},
   "outputs": [
    {
     "data": {
      "text/plain": [
       "4"
      ]
     },
     "execution_count": 26,
     "metadata": {},
     "output_type": "execute_result"
    }
   ],
   "source": [
    "# Para obtener el tamaño utilizamos len()\n",
    "len(aula)"
   ]
  },
  {
   "cell_type": "code",
   "execution_count": 30,
   "id": "0cf3b033-5ce1-4539-9d19-c3517783a952",
   "metadata": {},
   "outputs": [
    {
     "name": "stdout",
     "output_type": "stream",
     "text": [
      "Chavez\n",
      "Navarro\n",
      "Hermitaño\n",
      "Gomez\n"
     ]
    }
   ],
   "source": [
    "# Para recorres podemos utilizar una estructura repetitiva\n",
    "for alumno in aula:\n",
    "    print(alumno)"
   ]
  },
  {
   "cell_type": "code",
   "execution_count": 32,
   "id": "6aedad10-1ea9-499d-b53c-6a55ad0d0177",
   "metadata": {},
   "outputs": [
    {
     "data": {
      "text/plain": [
       "['Gomez', 'Hermitaño', 'Navarro', 'Chavez']"
      ]
     },
     "execution_count": 32,
     "metadata": {},
     "output_type": "execute_result"
    }
   ],
   "source": [
    "# Para invertir la lista utilizamos reverse()\n",
    "# Invertir NO significa ordenar en forma descendente sin invertir\n",
    "# la lista\n",
    "aula.reverse()\n",
    "aula"
   ]
  },
  {
   "cell_type": "code",
   "execution_count": 34,
   "id": "5a397419-fb5c-4dcd-ac3b-64e88066a420",
   "metadata": {},
   "outputs": [
    {
     "data": {
      "text/plain": [
       "['Chavez', 'Gomez', 'Hermitaño', 'Navarro']"
      ]
     },
     "execution_count": 34,
     "metadata": {},
     "output_type": "execute_result"
    }
   ],
   "source": [
    "#Para ordenas una lista utilizamos sort()\n",
    "aula.sort()\n",
    "aula"
   ]
  },
  {
   "cell_type": "code",
   "execution_count": 36,
   "id": "30e3de87-c7be-4922-8567-ab0e1e8012d6",
   "metadata": {},
   "outputs": [
    {
     "data": {
      "text/plain": [
       "('Bernola', 'Chipana', 'Gomez', 'Navarro')"
      ]
     },
     "execution_count": 36,
     "metadata": {},
     "output_type": "execute_result"
    }
   ],
   "source": [
    "# 1.2 Tuplas\n",
    "# Es una colección de elementos ordenada (Ordenado significa \n",
    "# que tiene un indice) que no se pueden modificar, es inalterable\n",
    "# no se pueden agregar elementos ni eliminar\n",
    "# se identifica por los parentensis\n",
    "tupla_aula = ('Bernola','Chipana','Gomez','Navarro')\n",
    "tupla_aula"
   ]
  },
  {
   "cell_type": "code",
   "execution_count": 40,
   "id": "d08608a9-06c4-4395-a92e-542f088a56df",
   "metadata": {},
   "outputs": [
    {
     "data": {
      "text/plain": [
       "'Gomez'"
      ]
     },
     "execution_count": 40,
     "metadata": {},
     "output_type": "execute_result"
    }
   ],
   "source": [
    "# Se puede extraer un elemento por su posición\n",
    "tupla_aula[2]"
   ]
  },
  {
   "cell_type": "code",
   "execution_count": 42,
   "id": "041baeb5-ff9c-48a1-b940-df809e2d1a14",
   "metadata": {},
   "outputs": [
    {
     "data": {
      "text/plain": [
       "4"
      ]
     },
     "execution_count": 42,
     "metadata": {},
     "output_type": "execute_result"
    }
   ],
   "source": [
    "# Para saber la cantidad de elementos de una tupla utilizamos len()\n",
    "len(tupla_aula)"
   ]
  },
  {
   "cell_type": "code",
   "execution_count": 70,
   "id": "115bee84-3c99-4e69-9a81-67b417930421",
   "metadata": {},
   "outputs": [
    {
     "data": {
      "text/plain": [
       "{'Bernaola', 'Chipana', 'Gomez', 'Navarro'}"
      ]
     },
     "execution_count": 70,
     "metadata": {},
     "output_type": "execute_result"
    }
   ],
   "source": [
    "# 1.3 Conjuntos\n",
    "# Es una colección de elementos que no está ordenado\n",
    "# (significa que no tiene un indice)\n",
    "conjunto_aula = {'Bernaola','Chipana','Gomez','Navarro'}\n",
    "conjunto_aula"
   ]
  },
  {
   "cell_type": "code",
   "execution_count": 72,
   "id": "9704639e-1c9e-406b-baff-1bab3d40046a",
   "metadata": {},
   "outputs": [
    {
     "name": "stdout",
     "output_type": "stream",
     "text": [
      "Gomez\n",
      "Chipana\n",
      "Bernaola\n",
      "Navarro\n"
     ]
    }
   ],
   "source": [
    "# Se puede recorrer utilizando una estructura repetitiva\n",
    "# Ejemplo: for\n",
    "for alumno in conjunto_aula:\n",
    "    print(alumno)"
   ]
  },
  {
   "cell_type": "code",
   "execution_count": 74,
   "id": "7a46100f-3641-4877-ac72-ab57c3516f40",
   "metadata": {},
   "outputs": [
    {
     "ename": "TypeError",
     "evalue": "'set' object is not subscriptable",
     "output_type": "error",
     "traceback": [
      "\u001b[1;31m---------------------------------------------------------------------------\u001b[0m",
      "\u001b[1;31mTypeError\u001b[0m                                 Traceback (most recent call last)",
      "Cell \u001b[1;32mIn[74], line 4\u001b[0m\n\u001b[0;32m      1\u001b[0m \u001b[38;5;66;03m# Observación: No se puede acceder por posición pues no considera\u001b[39;00m\n\u001b[0;32m      2\u001b[0m \u001b[38;5;66;03m# indexacion\u001b[39;00m\n\u001b[0;32m      3\u001b[0m \u001b[38;5;66;03m# Por ejemplo\u001b[39;00m\n\u001b[1;32m----> 4\u001b[0m conjunto_aula[\u001b[38;5;241m2\u001b[39m]\n",
      "\u001b[1;31mTypeError\u001b[0m: 'set' object is not subscriptable"
     ]
    }
   ],
   "source": [
    "# Observación: No se puede acceder por posición pues no considera\n",
    "# indexacion\n",
    "# Por ejemplo\n",
    "conjunto_aula[2]"
   ]
  },
  {
   "cell_type": "code",
   "execution_count": 76,
   "id": "20272245-183d-4d15-96fb-597245390aee",
   "metadata": {},
   "outputs": [
    {
     "data": {
      "text/plain": [
       "4"
      ]
     },
     "execution_count": 76,
     "metadata": {},
     "output_type": "execute_result"
    }
   ],
   "source": [
    "# Para saber la cnatidad de elementos utilizamos len()\n",
    "len(conjunto_aula)"
   ]
  },
  {
   "cell_type": "code",
   "execution_count": 78,
   "id": "80587871-bbe0-4eb2-b10c-1966e25913d1",
   "metadata": {},
   "outputs": [
    {
     "data": {
      "text/plain": [
       "{'Bernaola', 'Chipana', 'Gomez', 'Navarro', 'Palomino'}"
      ]
     },
     "execution_count": 78,
     "metadata": {},
     "output_type": "execute_result"
    }
   ],
   "source": [
    "# Para agregar utilizamos la función add()\n",
    "conjunto_aula.add(\"Palomino\")\n",
    "conjunto_aula"
   ]
  },
  {
   "cell_type": "code",
   "execution_count": 80,
   "id": "5030af90-5a30-451e-bdbb-a12457adbf67",
   "metadata": {},
   "outputs": [
    {
     "data": {
      "text/plain": [
       "{'Bernaola', 'Gomez', 'Navarro', 'Palomino'}"
      ]
     },
     "execution_count": 80,
     "metadata": {},
     "output_type": "execute_result"
    }
   ],
   "source": [
    "conjunto_aula.remove(\"Chipana\")\n",
    "conjunto_aula"
   ]
  },
  {
   "cell_type": "code",
   "execution_count": 82,
   "id": "1d2d9867-8fa6-4c81-8421-518788810a91",
   "metadata": {},
   "outputs": [
    {
     "data": {
      "text/plain": [
       "{2: 'Bernaola',\n",
       " '1': 'Chipana',\n",
       " 'dos': 'Gomez',\n",
       " '3': 'Navarro',\n",
       " '0': 'Palomino'}"
      ]
     },
     "execution_count": 82,
     "metadata": {},
     "output_type": "execute_result"
    }
   ],
   "source": [
    "# 1.4. Diccionarios \n",
    "#Es una colección de elementos, que están indexados, \n",
    "#no estan ordenados y se pueden modificar\n",
    "#Son escritos entre llaves y estan formados por pares de elementos\n",
    "#INDICE: VALOR\n",
    "diccionario_aula = {2:'Bernaola','1':'Chipana','dos':'Gomez','3':'Navarro','0':'Palomino'}\n",
    "diccionario_aula"
   ]
  },
  {
   "cell_type": "code",
   "execution_count": 84,
   "id": "8d0ee235-5f64-455d-9430-33b8e43642a8",
   "metadata": {},
   "outputs": [
    {
     "data": {
      "text/plain": [
       "'Palomino'"
      ]
     },
     "execution_count": 84,
     "metadata": {},
     "output_type": "execute_result"
    }
   ],
   "source": [
    "# Del Diccionario: diccionario_aula extraer el valor cuyo indice sea cero\n",
    "diccionario_aula['0']"
   ]
  },
  {
   "cell_type": "code",
   "execution_count": 86,
   "id": "81738e4f-98ae-4b3e-b3e0-8313ca13da06",
   "metadata": {},
   "outputs": [
    {
     "data": {
      "text/plain": [
       "'Bernaola'"
      ]
     },
     "execution_count": 86,
     "metadata": {},
     "output_type": "execute_result"
    }
   ],
   "source": [
    "diccionario_aula[2]"
   ]
  },
  {
   "cell_type": "code",
   "execution_count": 88,
   "id": "16b13bcd-478e-4565-80d7-fee01cfde011",
   "metadata": {},
   "outputs": [
    {
     "data": {
      "text/plain": [
       "'Gomez'"
      ]
     },
     "execution_count": 88,
     "metadata": {},
     "output_type": "execute_result"
    }
   ],
   "source": [
    "diccionario_aula['dos']"
   ]
  },
  {
   "cell_type": "code",
   "execution_count": 90,
   "id": "ba89fdec-16bd-41e1-93c2-d54a44b1bbc4",
   "metadata": {},
   "outputs": [
    {
     "data": {
      "text/plain": [
       "{2: 'Bernaola',\n",
       " '1': 'Chipana',\n",
       " 'dos': 'Gomez',\n",
       " '3': 'Navarro',\n",
       " '0': 'Palomino',\n",
       " '20': 'Vilca'}"
      ]
     },
     "execution_count": 90,
     "metadata": {},
     "output_type": "execute_result"
    }
   ],
   "source": [
    "# Para añadir un par de elementos al diccionario hacemos:\n",
    "diccionario_aula['20'] = \"Vilca\"\n",
    "diccionario_aula"
   ]
  },
  {
   "cell_type": "code",
   "execution_count": 92,
   "id": "fb7a6981-ea3a-42e8-86c7-c84d9fb364e3",
   "metadata": {},
   "outputs": [
    {
     "data": {
      "text/plain": [
       "{'1': 'Chipana',\n",
       " 'dos': 'Gomez',\n",
       " '3': 'Navarro',\n",
       " '0': 'Palomino',\n",
       " '20': 'Vilca'}"
      ]
     },
     "execution_count": 92,
     "metadata": {},
     "output_type": "execute_result"
    }
   ],
   "source": [
    "# Para eliminar un valor se utiliza pop()\n",
    "# Por ejemplo, eliminar el elemento de indice dos, Ejemplo: para eliminar a\n",
    "diccionario_aula.pop(2)\n",
    "diccionario_aula"
   ]
  },
  {
   "cell_type": "code",
   "execution_count": 94,
   "id": "bd84cfb8-efde-4576-85b0-ce9dbfc723da",
   "metadata": {},
   "outputs": [
    {
     "data": {
      "text/plain": [
       "{'1': 'Chipana', '3': 'Navarro', '0': 'Palomino', '20': 'Vilca'}"
      ]
     },
     "execution_count": 94,
     "metadata": {},
     "output_type": "execute_result"
    }
   ],
   "source": [
    "# Tambien se puede eliminar utilizando del()\n",
    "del(diccionario_aula[\"dos\"])\n",
    "diccionario_aula"
   ]
  },
  {
   "cell_type": "code",
   "execution_count": 96,
   "id": "9f972b78-8774-4233-82ab-9b3e8d6aede6",
   "metadata": {},
   "outputs": [
    {
     "name": "stdout",
     "output_type": "stream",
     "text": [
      "1\n",
      "3\n",
      "0\n",
      "20\n"
     ]
    }
   ],
   "source": [
    "# Para recorrer todos los elementos podemos utilizar for\n",
    "# En este ejemplo devuelve los indices\n",
    "for indice in diccionario_aula:\n",
    "    print(indice)"
   ]
  },
  {
   "cell_type": "code",
   "execution_count": 98,
   "id": "b639c38e-533a-4798-a01b-6b8c1e7d4e0c",
   "metadata": {},
   "outputs": [
    {
     "name": "stdout",
     "output_type": "stream",
     "text": [
      "1 Chipana\n",
      "3 Navarro\n",
      "0 Palomino\n",
      "20 Vilca\n"
     ]
    }
   ],
   "source": [
    "# Para obtener el indice y el valor de cada elemento utilizamos items()\n",
    "for indice, valor in diccionario_aula.items():\n",
    "    print(indice, valor)"
   ]
  },
  {
   "cell_type": "code",
   "execution_count": 102,
   "id": "f1371b45-13c8-45e9-a1a4-c3d2e8323444",
   "metadata": {},
   "outputs": [
    {
     "data": {
      "text/plain": [
       "['BERNAL',\n",
       " 'BERNAOLA',\n",
       " 'CABALLERO',\n",
       " 'CALDERON',\n",
       " 'CARRASCO',\n",
       " 'CENTENO',\n",
       " 'CHALQUE',\n",
       " 'CHAVEZ',\n",
       " 'CONDORI',\n",
       " 'CRUZ',\n",
       " 'PALACIOS',\n",
       " 'PALOMINO',\n",
       " 'QUISPE',\n",
       " 'RAMOS',\n",
       " 'RODAS',\n",
       " 'SILVERA',\n",
       " 'TALAVERA',\n",
       " 'TINEO',\n",
       " 'VICTORIO',\n",
       " 'VILCA',\n",
       " 'ZEA']"
      ]
     },
     "execution_count": 102,
     "metadata": {},
     "output_type": "execute_result"
    }
   ],
   "source": [
    "lista_apellidos = ['BERNAL','BERNAOLA','CABALLERO','CALDERON','CARRASCO','CENTENO', 'CHALQUE', 'CHAVEZ', 'CONDORI', 'CRUZ', 'PALACIOS', 'PALOMINO', 'QUISPE', 'RAMOS', 'RODAS', 'SILVERA', 'TALAVERA', 'TINEO', 'VICTORIO', 'VILCA', 'ZEA']\n",
    "lista_apellidos"
   ]
  },
  {
   "cell_type": "code",
   "execution_count": null,
   "id": "241be030-5890-4f8e-b668-136e28fbc090",
   "metadata": {},
   "outputs": [],
   "source": [
    "apellido = input()\n",
    "if apellido in lista_apellidos:\n",
    "    print(\"se encuentre en la lista\")\n",
    "else:\n",
    "    print(\"no se encuentra en la lista\")"
   ]
  },
  {
   "cell_type": "code",
   "execution_count": null,
   "id": "a4ff1f04-48a4-4cda-9d85-fab50508a310",
   "metadata": {},
   "outputs": [],
   "source": []
  }
 ],
 "metadata": {
  "kernelspec": {
   "display_name": "Python [conda env:base] *",
   "language": "python",
   "name": "conda-base-py"
  },
  "language_info": {
   "codemirror_mode": {
    "name": "ipython",
    "version": 3
   },
   "file_extension": ".py",
   "mimetype": "text/x-python",
   "name": "python",
   "nbconvert_exporter": "python",
   "pygments_lexer": "ipython3",
   "version": "3.12.7"
  }
 },
 "nbformat": 4,
 "nbformat_minor": 5
}
